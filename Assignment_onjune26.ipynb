In [1]:
# Python program to calculate the length of a string.

str = input("Enter a string: ")

counter = 0
for s in str:
      counter = counter+1
print("Length of the input string is:", counter)
Enter a string: surya
Length of the input string is: 5
In [2]:
# Pyhton program to count the number of characters(character frequency in a string).

def char_frequency(str1):
    dict = {}
    for n in str1:
        keys = dict.keys()
        if n in keys:
            dict[n] += 1
        else:
            dict[n] = 1
    return dict
print(char_frequency('surya'))
{'s': 1, 'u': 1, 'r': 1, 'y': 1, 'a': 1}
In [ ]:
# Python program to get a single string from two given strings,seperated by a space and swap the first two characters of each string.

def chars_mix_up(a, b):
  new_a = b[:2] + a[2:]
  new_b = a[:2] + b[2:]

  return new_a + ' ' + new_b
print(chars_mix_up('qwerty', 'keyboard'))
keerty qwyboard
In [3]:
# Python program script that takes input from the user and displays that input back in upper and lower cases.

user_input = input("What's your name? ")
print("My name is ", user_input.upper())
print("My name is ", user_input.lower())
What's your name? surya
My name is  SURYA
My name is  surya
In [4]:
# Python program to remove a newline in python.

str1='surya\n'
print(str1)
print(str1.rstrip())
surya

surya
In [ ]:
# Python program to count occurence of a substring in a string.

str1 = 'this is a program to count occurence of a substring in a string.'
print(str1.count("a"))
4
In [5]:
# Python program to convert a string in a list.

def Convert(string): 
    li = list(string.split(" ")) 
    return li   

str1 = "hi my name is surya."
print(Convert(str1))
['hi', 'my', 'name', 'is', 'surya.']
In [ ]:
# Python program to perform deletion of a character.

def remove(string, i):  
   a = string[ : i]   
   b = string[i + 1: ]  
   return a + b  
if __name__ == '__main__': 
 string = "programing" 
 i = 5
print(remove(string, i))
progrming
In [ ]:
# Python program to find the length of the string "refrigerator" without using len function.

a = "refrigerator"
count = 0
for i in a:
  count = count+1
print(count)
12
