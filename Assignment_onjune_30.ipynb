In [ ]:
f=open("file1.txt","w")
f.write("""Hi
Hello
How are you?
You look good.Have a good day.""")
f.close()
In [ ]:
# Python program to read an entire text file.

f = open("file1.txt","r")
content = f.read()
print("Content present in the file assignment.txt is\n",content)
Content present in the file assignment.txt is
 Hi
Hello
How are you?
You look good.Have a good day.
In [ ]:
# Python program to read first n lines of a file.

f=open("file1.txt","r")
n=int(input("Enter the number of lines you want to read: "))
print("The content present in the first",n,"lines present in the file is\n:")
for i in range(n):
    line=f.readline()
    print(line)
Enter the number of lines you want to read: 3
The content present in the first 3 lines present in the file is
:
Hi

Hello

How are you?

In [ ]:
# Python program to append text to a file and display the text.

def file_read(fname):
        from itertools import islice
        with open(fname, "w") as myfile:
                myfile.write("Surya\n")
                myfile.write("S/O Sandy")
        txt = open(fname)
        print(txt.read())
file_read('abc.txt')
Surya
S/O Sandy
In [ ]:
# Python program to read last n lines of a file.

f=open("file1.txt","r")
n=int(input("Enter the value of n to print the last lines: "))
last=f.readlines() [-n:]
for line in last:
    print(line, end ='')
Enter the value of n to print the last lines: 2
How are you?
You look good.Have a good day.
In [ ]:
# Python program to read a file line by line store it into a variable.

def file_read(fname):
        with open (fname, "r") as myfile:
                data=myfile.readlines()
                print(data)
file_read('file1.txt')
['Hi\n', 'Hello\n', 'How are you?\n', 'You look good.Have a good day.']
In [ ]:
# Python program to read a file line by line and store it into a list.

def file_read(fname):
        with open(fname) as f:     
                content_list = f.readlines()
                print(content_list)

file_read('file1.txt')
['Hi\n', 'Hello\n', 'How are you?\n', 'You look good.Have a good day.']
In [ ]:
# Python program to count the number of lines in a text file.

def file_lengthy(fname):
        with open(fname) as f:
                for i, l in enumerate(f):
                        pass
        return i + 1
print("Number of lines in the file: ",file_lengthy("file1.txt"))
Number of lines in the file:  4
In [ ]:
# Python program to get the file size of a plain file.

def file_size(fname):
        import os
        statinfo = os.stat(fname)
        return statinfo.st_size

print("File size in bytes of a plain file: ",file_size("file1.txt"))
File size in bytes of a plain file:  52
In [ ]:
# Python program to copy the contents of a file to another file.

from shutil import copyfile
copyfile('file1.txt', 'abc.txt')
Out[ ]:
'abc.txt'
