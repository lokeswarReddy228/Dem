
In [ ]:
# Python program that prints the integers from 1 to 100. but for multiples of three print "Fizz" instead of the number, and for the multiples of five print "Buzz" for numbers which are multiples of both three and five print "FizzBuzz".

for fizzbuzz in range(101):
    if fizzbuzz % 3 == 0 and fizzbuzz % 5 == 0:
        print("fizzbuzz")
        continue
    elif fizzbuzz % 3 == 0:
        print("fizz")
        continue
    elif fizzbuzz % 5 == 0:
        print("buzz")
        continue
    print(fizzbuzz)
fizzbuzz
1
2
fizz
4
buzz
fizz
7
8
fizz
buzz
11
fizz
13
14
fizzbuzz
16
17
fizz
19
buzz
fizz
22
23
fizz
buzz
26
fizz
28
29
fizzbuzz
31
32
fizz
34
buzz
fizz
37
38
fizz
buzz
41
fizz
43
44
fizzbuzz
46
47
fizz
49
buzz
fizz
52
53
fizz
buzz
56
fizz
58
59
fizzbuzz
61
62
fizz
64
buzz
fizz
67
68
fizz
buzz
71
fizz
73
74
fizzbuzz
76
77
fizz
79
buzz
fizz
82
83
fizz
buzz
86
fizz
88
89
fizzbuzz
91
92
fizz
94
buzz
fizz
97
98
fizz
buzz
In [ ]:
# Python program to find unique element from a list.

my_list = [1, 2, 3, 4, 2, 5, 6, 6,8]
print("Original List : ",my_list)
my_set = set(my_list)
my_new_list = list(my_set)
print("List of unique numbers : ",my_new_list)
Original List :  [1, 2, 3, 4, 2, 5, 6, 6, 8]
List of unique numbers :  [1, 2, 3, 4, 5, 6, 8]
In [ ]:
# Python program that checks wheather a number is in a given range(inclusive of high and low).

def test_range(n):
    if n in range(1,6):
        print( " %s is in the range"%str(n))
    else :
        print("The number is outside the given range.")
test_range(5)
 5 is in the range
In [ ]:
# Python program that accepts a string and calculates the number of upper case letters and lower case letters.

def string_test(s):
    d={"UPPER_CASE":0, "LOWER_CASE":0}
    for c in s:
        if c.isupper():
           d["UPPER_CASE"]+=1
        elif c.islower():
           d["LOWER_CASE"]+=1
        else:
           pass
    print ("Original String : ", s)
    print ("No. of Upper case characters : ", d["UPPER_CASE"])
    print ("No. of Lower case Characters : ", d["LOWER_CASE"])

string_test('Hello Mr.Rogers,how are you this fine Tuesday?')
Original String :  Hello Mr.Rogers,how are you this fine Tuesday?
No. of Upper case characters :  4
No. of Lower case Characters :  33
In [ ]:
