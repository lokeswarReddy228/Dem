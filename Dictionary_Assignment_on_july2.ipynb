Q... What is dictionary in python? Explain with an example.

A dictionary is an associative array (also known as hashes). Any key of the dictionary is associated (or mapped) to a value. The values of a dictionary can be any Python data type. So dictionaries are unordered key-value-pairs.Dictionaries belong to the built-in mapping type.

In [ ]:
# Example for dictionary in python.

mydict = {'StuName': 'Ajeet', 'StuAge': 30, 'StuCity': 'Agra'}
print("Student Age is:", mydict['StuAge'])
print("Student City is:", mydict['StuCity'])
Student Age is: 30
Student City is: Agra
In [ ]:
# Python program to sum all the items in a list.

def sum_list(items):
    sum_numbers = 0
    for x in items:
        sum_numbers += x
    return sum_numbers
print(sum_list([1,6,-2]))
5
In [ ]:
# Python program to create a list of empty dictionaries.

n = int(input("Enter the number of dictionaries need to be created: "))
l = [{} for _ in range(n)]
print(l)
Enter the number of dictionaries need to be created: 10
[{}, {}, {}, {}, {}, {}, {}, {}, {}, {}]
In [ ]:
# Python program to access dictionary keys element by index.

num = {'Python': 80, 'math': 90, 'chemistry': 86}
print(list(num)[0])
Python
In [ ]:
# Python program to sum all the items in a dictionary.

my_dict = {'data1':10,'data2':-54,'data3':258}
print(sum(my_dict.values()))
214
In [ ]:
# Python program concatenate following dictionaries to create a new one.

dic1={1:10, 2:20}
dic2={3:30, 4:40}
dic3={5:50,6:60}
dic4={}
for d in (dic1, dic2): dic4.update(d)
print(dic4)
{1: 10, 2: 20, 3: 30, 4: 40}
