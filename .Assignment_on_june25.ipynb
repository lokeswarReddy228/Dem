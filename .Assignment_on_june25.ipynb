In [ ]:
# Python program to find square root

num = int(input("Enter the value of num"))
num_sqrt = num ** 0.5
print('The square root of %0.3f is %0.3f'%(num ,num_sqrt))
Enter the value of num5
The square root of 5.000 is 2.236
In [ ]:
# Python program to check if a number is positive , negative or 0.

num = float(input("Enter a number: "))
if num > 0:
   print("Positive number")
elif num == 0:
   print("Zero")
else:
   print("Negative number")
Enter a number: 5
Positive number
In [ ]:
# Python program to check leap year.

year = int(input("Enter the year: "))
if (year % 4) == 0:
   if (year % 100) == 0:
       if (year % 400) == 0:
           print("{0} is a leap year".format(year))
       else:
           print("{0} is not a leap year".format(year))
   else:
       print("{0} is a leap year".format(year))
else:
   print("{0} is not a leap year".format(year))
Enter the year: 2002
2002 is not a leap year
In [ ]:
# Python program to print the fibonacci sequence.

n = int(input("How many terms? "))
n1 =int(input("Enter the staring value"))
n2 =int(input("Enter the second value"))
count = 0
if n <= 0:
   print("Please enter a positive integer")
elif n == 1:
   print("Fibonacci sequence upto",n,":")
   print(n1)
else:
   print("Fibonacci sequence:")
   while count < n:
       print(n1)
       nth = n1 + n2
# updating the values
       n1 = n2
       n2 = nth
       count += 1
How many terms? 10
Enter the staring value1
Enter the second value2
Fibonacci sequence:
1
2
3
5
8
13
21
34
55
89
In [ ]:
# Python program to check armstrong number.

num = int(input("Enter a number: "))
sum = 0
temp = num
while temp > 0:
   digit = temp % 10
   sum += digit ** 3
   temp //= 10
if num == sum:
   print(num,"is an Armstrong number")
else:
   print(num,"is not an Armstrong number")
Enter a number: 162
162 is not an Armstrong number
In [ ]:
# Python program to find armstrong number in an interval.

lower = int(input("Enter the starting value"))
upper = int(input("Enter the ending value"))
for num in range(lower, upper + 1):
   order = len(str(num))
   sum = 0
   temp = num
   while temp > 0:
       digit = temp % 10
       sum += digit ** order
       temp //= 10
   if num == sum:
       print(num)
Enter the starting value100
Enter the ending value1000
153
370
371
407
In [ ]:
