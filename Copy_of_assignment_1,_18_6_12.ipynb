In [ ]:

Program to design simple calculator for operators

In [ ]:
a=int(input())
b=int(input())
print(a+b , a-b, a/b, a//b, a%b, a**b)
3
6
9 -3 0.5 0 3 729
Program to calculate simple interest

In [ ]:
p=int(input())
t=int(input())
r=int(input())
print((p*t*r)/100)
5
5
10
2.5
Program to calculate the area of a circle

In [ ]:
radius=float(input())
print('area of circle is', 3.14*radius**2)
3
area of circle is 28.26
Program to calculate area of Triangle

In [ ]:
breadth=int(input())
length=int(input())
print("area of triangle is",(1/2)*breadth*length)
3
5
area of triangle is 7.5
Write a python program to temperature in celsius to Fahrenheit

In [ ]:
celsius=float(input())
print('after conversion in Fahrenheit is', celsius*1.8+32)
37.5
after conversion in Fahrenheit is 99.5
Program to calculate area of rectangle

In [ ]:
length=int(input())
breadth=int(input())
print("area of rectangle is",length*breadth)
2
3
area of rectangle is 6
Program to calculate perimeter of square

In [ ]:
a=int(input())
print("perimeter of a square is", 4*a)
3
perimeter of a square is 12
Program to calculate circumference of a circle

In [ ]:
radius=float(input())
print("circumference of a circle is", 2*3.14*radius)
7.6
circumference of a circle is 47.728
Program to swap two numbers

In [ ]:
a=int(input())
b=int(input())
temp=a
a=b
b=temp
print("after swapping the values are", a, b)
2
3
after swapping the values are 3 2
In [ ]:
