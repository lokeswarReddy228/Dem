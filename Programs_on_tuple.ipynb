In [ ]:
# Python program to create a tuple.

my_tuple = ()
print(my_tuple)
my_tuple = (1, 2, 3)
print(my_tuple)
my_tuple = (1, "Hello", 3.4)
print(my_tuple)
my_tuple = ("mouse", [8, 4, 6], (1, 2, 3))
print(my_tuple)
()
(1, 2, 3)
(1, 'Hello', 3.4)
('mouse', [8, 4, 6], (1, 2, 3))
In [ ]:
# Python program to create a tuple with different data types.

tuplex = ("tuple", False, 3.2, 1)
print(tuplex)
('tuple', False, 3.2, 1)
In [ ]:
# Python program to convert a tuple to a string.

tup = ('s', 'u', 'r', 'y', 'a',)
str =  ''.join(tup)
print(str)
surya
In [ ]:
# Python program to slice a tuple.

tuplex = tuple("HELLO WORLD")
print(tuplex)
_slice = tuplex[2:9:2]
print(_slice) 
_slice = tuplex[::4]
print(_slice)
_slice = tuplex[9:2:-4]
print(_slice)
('H', 'E', 'L', 'L', 'O', ' ', 'W', 'O', 'R', 'L', 'D')
('L', 'O', 'W', 'R')
('H', 'O', 'R')
('L', ' ')
In [ ]:
# Python program to find the length of a tuple.

tuplex = tuple("python programming")
print(tuplex)
print(len(tuplex))
('p', 'y', 't', 'h', 'o', 'n', ' ', 'p', 'r', 'o', 'g', 'r', 'a', 'm', 'm', 'i', 'n', 'g')
18
In [ ]:
# Python program to convert a tuple to a dictionary.

tuplex = ((2, "w"),(3, "r"))
print(dict((y, x) for x, y in tuplex))
{'w': 2, 'r': 3}
In [ ]:
# Python program to reverse a tuple.

x = ("python")
y = reversed(x)
print(tuple(y))
('n', 'o', 'h', 't', 'y', 'p')
In [ ]:
# Python program to convert a list of tuples into a dictionary.

l = [("x", 1), ("x", 2), ("x", 3), ("y", 1), ("y", 2), ("z", 1)]
d = {}
for a, b in l:
    d.setdefault(a, []).append(b)
print (d)
{'x': [1, 2, 3], 'y': [1, 2], 'z': [1]}
In [ ]:
# Python program to convert a list of tuple.

listx = [5, 10, 7, 4, 15, 3]
tuplex = tuple(listx)
print(tuplex)
(5, 10, 7, 4, 15, 3)
In [ ]:
