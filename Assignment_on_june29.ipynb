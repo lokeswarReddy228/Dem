In [ ]:
# Python program to get the largest & smallest number from a list.

lst = []
num = int(input('How many numbers: '))
for n in range(num):
    numbers = int(input('Enter number '))
    lst.append(numbers)
print("largest number in the list is :", max(lst), "\n smallest number in the list is :", min(lst))
How many numbers: 5
Enter number 1
Enter number 3
Enter number 6
Enter number 9
Enter number 8
largest number in the list is : 9 
 smallest number in the list is : 1
In [ ]:
# Python program to remove duplicates from a list.

a = [1,2,4,2,5,6,3,8,3,8,9,0,4]
dup_items = set()
uniq_items = []
for x in a:
    if x not in dup_items:
        uniq_items.append(x)
        dup_items.add(x)
print(dup_items)
{0, 1, 2, 3, 4, 5, 6, 8, 9}
In [ ]:
# Python program to check a list is empty or not.

l = []
if not l:
  print("List is empty")
List is empty
In [ ]:
# Python program to clone or copy a list.

original_list = [1,3,5,7,9]
new_list = list(original_list)
print(original_list)
print(new_list)
[1, 3, 5, 7, 9]
[1, 3, 5, 7, 9]
In [ ]:
# Python program to print a specified list after removing the 0th,4th and 5th elements.

color = ['Red', 'Green', 'White', 'Black', 'Pink', 'Yellow']
color = [x for (i,x) in enumerate(color) if i not in (0,4,5)]
print(color)
['Green', 'White', 'Black']
In [ ]:
# Python program to print the numbers of a specified list after removing even numbers from it.

num = [1,2,5,3,8,38,95,80,45,67,34,52]
num = [x for x in num if x%2!=0]
print(num)
[1, 5, 3, 95, 45, 67]
In [ ]:
# Python program to shuffle and print a specified list.

from random import shuffle
color = ['Violet','Indigo','Blue','Green','Yellow','Orange','Red']
shuffle(color)
print(color)
['Blue', 'Indigo', 'Violet', 'Orange', 'Yellow', 'Red', 'Green']
In [ ]:
# Python program to get the difference between the two list.

list1 = [1, 3, 5, 7, 9]
list2=[1, 2, 4, 6, 7, 8]
diff_list1_list2 = list(set(list1) - set(list2))
diff_list2_list1 = list(set(list2) - set(list1))
total_diff = diff_list1_list2 + diff_list2_list1
print(total_diff)
[9, 3, 5, 8, 2, 4, 6]
In [ ]:
